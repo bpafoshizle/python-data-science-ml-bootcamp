{
 "cells": [
  {
   "cell_type": "code",
   "execution_count": 1,
   "metadata": {},
   "outputs": [],
   "source": [
    "import pandas as pd\n",
    "import numpy as np"
   ]
  },
  {
   "cell_type": "code",
   "execution_count": 2,
   "metadata": {},
   "outputs": [],
   "source": [
    "df = pd.read_csv('../DATA/cancer_classification.csv')"
   ]
  },
  {
   "cell_type": "code",
   "execution_count": 3,
   "metadata": {},
   "outputs": [],
   "source": [
    "X = df.drop('benign_0__mal_1',axis=1).values\n",
    "y = df['benign_0__mal_1'].values"
   ]
  },
  {
   "cell_type": "code",
   "execution_count": 4,
   "metadata": {},
   "outputs": [],
   "source": [
    "from sklearn.model_selection import train_test_split"
   ]
  },
  {
   "cell_type": "code",
   "execution_count": 5,
   "metadata": {},
   "outputs": [],
   "source": [
    "X_train, X_test, y_train, y_test = train_test_split(X,y,test_size=0.25,random_state=101)"
   ]
  },
  {
   "cell_type": "code",
   "execution_count": 6,
   "metadata": {},
   "outputs": [],
   "source": [
    "from sklearn.preprocessing import MinMaxScaler"
   ]
  },
  {
   "cell_type": "code",
   "execution_count": 7,
   "metadata": {},
   "outputs": [],
   "source": [
    "scaler = MinMaxScaler()"
   ]
  },
  {
   "cell_type": "code",
   "execution_count": 8,
   "metadata": {},
   "outputs": [],
   "source": [
    "X_train = scaler.fit_transform(X_train)\n",
    "X_test = scaler.transform(X_test)"
   ]
  },
  {
   "cell_type": "code",
   "execution_count": 9,
   "metadata": {},
   "outputs": [],
   "source": [
    "import tensorflow as tf\n",
    "from tensorflow.keras.models import Sequential\n",
    "from tensorflow.keras.layers import Dense,Dropout,Activation"
   ]
  },
  {
   "cell_type": "code",
   "execution_count": 10,
   "metadata": {},
   "outputs": [],
   "source": [
    "from tensorflow.keras.callbacks import EarlyStopping, TensorBoard"
   ]
  },
  {
   "cell_type": "code",
   "execution_count": 11,
   "metadata": {},
   "outputs": [],
   "source": [
    "early_stop = EarlyStopping(monitor='val_loss', mode='min', verbose=1, patience=25)"
   ]
  },
  {
   "cell_type": "code",
   "execution_count": 12,
   "metadata": {},
   "outputs": [
    {
     "data": {
      "text/plain": [
       "'/opt/notebooks/Python-Data-Science-and-Machine-Learning-Bootcamp/TensorFlow_FILES/ANNs'"
      ]
     },
     "execution_count": 12,
     "metadata": {},
     "output_type": "execute_result"
    }
   ],
   "source": [
    "pwd"
   ]
  },
  {
   "cell_type": "code",
   "execution_count": 13,
   "metadata": {},
   "outputs": [
    {
     "data": {
      "text/plain": [
       "'2020-08-12--1129'"
      ]
     },
     "execution_count": 13,
     "metadata": {},
     "output_type": "execute_result"
    }
   ],
   "source": [
    "from datetime import datetime\n",
    "datetime.now().strftime(\"%Y-%m-%d--%H%M\")"
   ]
  },
  {
   "cell_type": "code",
   "execution_count": 14,
   "metadata": {},
   "outputs": [],
   "source": [
    "log_directory = 'logs/fit'\n",
    "timestamp = datetime.now().strftime(\"%Y-%m-%d--%H%M\")\n",
    "log_directory = log_directory + '/' + timestamp"
   ]
  },
  {
   "cell_type": "code",
   "execution_count": 15,
   "metadata": {},
   "outputs": [],
   "source": [
    "board = TensorBoard(\n",
    "    log_dir=log_directory,\n",
    "    histogram_freq=1,\n",
    "    write_graph=True,\n",
    "    write_images=True,\n",
    "    update_freq='epoch',\n",
    "    profile_batch=2,\n",
    "    embeddings_freq=1\n",
    ")"
   ]
  },
  {
   "cell_type": "code",
   "execution_count": 16,
   "metadata": {},
   "outputs": [],
   "source": [
    "model = Sequential()\n",
    "\n",
    "model.add(Dense(units=30,activation='relu'))\n",
    "model.add(Dropout(.5))\n",
    "model.add(Dense(units=15,activation='relu'))\n",
    "model.add(Dropout(.5))\n",
    "model.add(Dense(units=1,activation='sigmoid'))\n",
    "\n",
    "model.compile(\n",
    "    optimizer='adam',\n",
    "    loss='binary_crossentropy'\n",
    ")"
   ]
  },
  {
   "cell_type": "code",
   "execution_count": 17,
   "metadata": {},
   "outputs": [
    {
     "name": "stdout",
     "output_type": "stream",
     "text": [
      "Epoch 1/600\n",
      "14/14 [==============================] - 0s 17ms/step - loss: 0.7091 - val_loss: 0.6913\n",
      "Epoch 2/600\n",
      "14/14 [==============================] - 0s 7ms/step - loss: 0.7083 - val_loss: 0.6831\n",
      "Epoch 3/600\n",
      "14/14 [==============================] - 0s 6ms/step - loss: 0.6833 - val_loss: 0.6656\n",
      "Epoch 4/600\n",
      "14/14 [==============================] - 0s 7ms/step - loss: 0.6704 - val_loss: 0.6439\n",
      "Epoch 5/600\n",
      "14/14 [==============================] - 0s 7ms/step - loss: 0.6317 - val_loss: 0.6174\n",
      "Epoch 6/600\n",
      "14/14 [==============================] - 0s 6ms/step - loss: 0.6250 - val_loss: 0.5916\n",
      "Epoch 7/600\n",
      "14/14 [==============================] - 0s 7ms/step - loss: 0.6023 - val_loss: 0.5663\n",
      "Epoch 8/600\n",
      "14/14 [==============================] - 0s 7ms/step - loss: 0.6058 - val_loss: 0.5371\n",
      "Epoch 9/600\n",
      "14/14 [==============================] - 0s 9ms/step - loss: 0.5646 - val_loss: 0.5095\n",
      "Epoch 10/600\n",
      "14/14 [==============================] - 0s 8ms/step - loss: 0.5354 - val_loss: 0.4850\n",
      "Epoch 11/600\n",
      "14/14 [==============================] - 0s 8ms/step - loss: 0.5102 - val_loss: 0.4532\n",
      "Epoch 12/600\n",
      "14/14 [==============================] - 0s 8ms/step - loss: 0.4950 - val_loss: 0.4264\n",
      "Epoch 13/600\n",
      "14/14 [==============================] - 0s 8ms/step - loss: 0.4725 - val_loss: 0.3986\n",
      "Epoch 14/600\n",
      "14/14 [==============================] - 0s 8ms/step - loss: 0.4533 - val_loss: 0.3732\n",
      "Epoch 15/600\n",
      "14/14 [==============================] - 0s 7ms/step - loss: 0.4238 - val_loss: 0.3501\n",
      "Epoch 16/600\n",
      "14/14 [==============================] - 0s 8ms/step - loss: 0.4268 - val_loss: 0.3264\n",
      "Epoch 17/600\n",
      "14/14 [==============================] - 0s 9ms/step - loss: 0.4092 - val_loss: 0.3039\n",
      "Epoch 18/600\n",
      "14/14 [==============================] - 0s 8ms/step - loss: 0.4060 - val_loss: 0.2886\n",
      "Epoch 19/600\n",
      "14/14 [==============================] - 0s 8ms/step - loss: 0.3694 - val_loss: 0.2757\n",
      "Epoch 20/600\n",
      "14/14 [==============================] - 0s 8ms/step - loss: 0.3529 - val_loss: 0.2604\n",
      "Epoch 21/600\n",
      "14/14 [==============================] - 0s 8ms/step - loss: 0.3538 - val_loss: 0.2416\n",
      "Epoch 22/600\n",
      "14/14 [==============================] - 0s 7ms/step - loss: 0.3277 - val_loss: 0.2265\n",
      "Epoch 23/600\n",
      "14/14 [==============================] - 0s 8ms/step - loss: 0.3294 - val_loss: 0.2155\n",
      "Epoch 24/600\n",
      "14/14 [==============================] - 0s 8ms/step - loss: 0.3167 - val_loss: 0.2022\n",
      "Epoch 25/600\n",
      "14/14 [==============================] - 0s 8ms/step - loss: 0.3114 - val_loss: 0.1982\n",
      "Epoch 26/600\n",
      "14/14 [==============================] - 0s 7ms/step - loss: 0.3065 - val_loss: 0.1915\n",
      "Epoch 27/600\n",
      "14/14 [==============================] - 0s 6ms/step - loss: 0.2871 - val_loss: 0.1844\n",
      "Epoch 28/600\n",
      "14/14 [==============================] - 0s 6ms/step - loss: 0.3055 - val_loss: 0.1810\n",
      "Epoch 29/600\n",
      "14/14 [==============================] - 0s 6ms/step - loss: 0.2605 - val_loss: 0.1731\n",
      "Epoch 30/600\n",
      "14/14 [==============================] - 0s 6ms/step - loss: 0.2685 - val_loss: 0.1686\n",
      "Epoch 31/600\n",
      "14/14 [==============================] - 0s 6ms/step - loss: 0.2612 - val_loss: 0.1664\n",
      "Epoch 32/600\n",
      "14/14 [==============================] - 0s 6ms/step - loss: 0.2605 - val_loss: 0.1534\n",
      "Epoch 33/600\n",
      "14/14 [==============================] - 0s 6ms/step - loss: 0.2546 - val_loss: 0.1488\n",
      "Epoch 34/600\n",
      "14/14 [==============================] - 0s 6ms/step - loss: 0.2205 - val_loss: 0.1436\n",
      "Epoch 35/600\n",
      "14/14 [==============================] - 0s 6ms/step - loss: 0.2163 - val_loss: 0.1425\n",
      "Epoch 36/600\n",
      "14/14 [==============================] - 0s 7ms/step - loss: 0.2391 - val_loss: 0.1352\n",
      "Epoch 37/600\n",
      "14/14 [==============================] - 0s 7ms/step - loss: 0.2207 - val_loss: 0.1318\n",
      "Epoch 38/600\n",
      "14/14 [==============================] - 0s 7ms/step - loss: 0.2221 - val_loss: 0.1409\n",
      "Epoch 39/600\n",
      "14/14 [==============================] - 0s 8ms/step - loss: 0.2028 - val_loss: 0.1310\n",
      "Epoch 40/600\n",
      "14/14 [==============================] - 0s 8ms/step - loss: 0.1978 - val_loss: 0.1270\n",
      "Epoch 41/600\n",
      "14/14 [==============================] - 0s 5ms/step - loss: 0.2067 - val_loss: 0.1250\n",
      "Epoch 42/600\n",
      "14/14 [==============================] - 0s 8ms/step - loss: 0.1896 - val_loss: 0.1183\n",
      "Epoch 43/600\n",
      "14/14 [==============================] - 0s 8ms/step - loss: 0.2198 - val_loss: 0.1161\n",
      "Epoch 44/600\n",
      "14/14 [==============================] - 0s 8ms/step - loss: 0.1991 - val_loss: 0.1181\n",
      "Epoch 45/600\n",
      "14/14 [==============================] - 0s 9ms/step - loss: 0.2039 - val_loss: 0.1193\n",
      "Epoch 46/600\n",
      "14/14 [==============================] - 0s 7ms/step - loss: 0.1749 - val_loss: 0.1145\n",
      "Epoch 47/600\n",
      "14/14 [==============================] - 0s 7ms/step - loss: 0.1630 - val_loss: 0.1151\n",
      "Epoch 48/600\n",
      "14/14 [==============================] - 0s 8ms/step - loss: 0.1935 - val_loss: 0.1112\n",
      "Epoch 49/600\n",
      "14/14 [==============================] - 0s 8ms/step - loss: 0.1696 - val_loss: 0.1091\n",
      "Epoch 50/600\n",
      "14/14 [==============================] - 0s 8ms/step - loss: 0.1915 - val_loss: 0.1050\n",
      "Epoch 51/600\n",
      "14/14 [==============================] - 0s 8ms/step - loss: 0.1771 - val_loss: 0.1086\n",
      "Epoch 52/600\n",
      "14/14 [==============================] - 0s 8ms/step - loss: 0.1604 - val_loss: 0.1097\n",
      "Epoch 53/600\n",
      "14/14 [==============================] - 0s 8ms/step - loss: 0.1751 - val_loss: 0.1089\n",
      "Epoch 54/600\n",
      "14/14 [==============================] - 0s 9ms/step - loss: 0.1642 - val_loss: 0.1026\n",
      "Epoch 55/600\n",
      "14/14 [==============================] - 0s 6ms/step - loss: 0.1608 - val_loss: 0.1004\n",
      "Epoch 56/600\n",
      "14/14 [==============================] - 0s 6ms/step - loss: 0.1754 - val_loss: 0.1064\n",
      "Epoch 57/600\n",
      "14/14 [==============================] - 0s 6ms/step - loss: 0.1627 - val_loss: 0.1031\n",
      "Epoch 58/600\n",
      "14/14 [==============================] - 0s 6ms/step - loss: 0.1450 - val_loss: 0.0953\n",
      "Epoch 59/600\n",
      "14/14 [==============================] - 0s 6ms/step - loss: 0.1831 - val_loss: 0.1095\n",
      "Epoch 60/600\n",
      "14/14 [==============================] - 0s 6ms/step - loss: 0.1473 - val_loss: 0.0966\n",
      "Epoch 61/600\n",
      "14/14 [==============================] - 0s 6ms/step - loss: 0.1500 - val_loss: 0.0995\n",
      "Epoch 62/600\n",
      "14/14 [==============================] - 0s 6ms/step - loss: 0.1473 - val_loss: 0.0901\n",
      "Epoch 63/600\n",
      "14/14 [==============================] - 0s 6ms/step - loss: 0.1502 - val_loss: 0.1006\n",
      "Epoch 64/600\n",
      "14/14 [==============================] - 0s 8ms/step - loss: 0.1541 - val_loss: 0.0947\n",
      "Epoch 65/600\n",
      "14/14 [==============================] - 0s 8ms/step - loss: 0.1406 - val_loss: 0.0991\n",
      "Epoch 66/600\n",
      "14/14 [==============================] - 0s 7ms/step - loss: 0.1445 - val_loss: 0.0966\n",
      "Epoch 67/600\n",
      "14/14 [==============================] - 0s 9ms/step - loss: 0.1507 - val_loss: 0.0935\n",
      "Epoch 68/600\n",
      "14/14 [==============================] - 0s 8ms/step - loss: 0.1396 - val_loss: 0.0871\n",
      "Epoch 69/600\n",
      "14/14 [==============================] - 0s 7ms/step - loss: 0.1430 - val_loss: 0.0960\n",
      "Epoch 70/600\n",
      "14/14 [==============================] - 0s 7ms/step - loss: 0.1295 - val_loss: 0.0989\n",
      "Epoch 71/600\n",
      "14/14 [==============================] - 0s 6ms/step - loss: 0.1170 - val_loss: 0.0994\n",
      "Epoch 72/600\n",
      "14/14 [==============================] - 0s 6ms/step - loss: 0.1312 - val_loss: 0.0909\n",
      "Epoch 73/600\n",
      "14/14 [==============================] - 0s 7ms/step - loss: 0.1330 - val_loss: 0.0891\n",
      "Epoch 74/600\n",
      "14/14 [==============================] - 0s 7ms/step - loss: 0.1530 - val_loss: 0.0869\n",
      "Epoch 75/600\n",
      "14/14 [==============================] - 0s 7ms/step - loss: 0.1120 - val_loss: 0.0954\n",
      "Epoch 76/600\n",
      "14/14 [==============================] - 0s 7ms/step - loss: 0.1221 - val_loss: 0.0924\n",
      "Epoch 77/600\n",
      "14/14 [==============================] - 0s 7ms/step - loss: 0.1210 - val_loss: 0.0922\n",
      "Epoch 78/600\n",
      "14/14 [==============================] - 0s 7ms/step - loss: 0.1221 - val_loss: 0.1020\n",
      "Epoch 79/600\n",
      "14/14 [==============================] - 0s 7ms/step - loss: 0.1239 - val_loss: 0.0904\n",
      "Epoch 80/600\n",
      "14/14 [==============================] - 0s 7ms/step - loss: 0.1294 - val_loss: 0.0877\n",
      "Epoch 81/600\n",
      "14/14 [==============================] - 0s 7ms/step - loss: 0.1049 - val_loss: 0.0947\n",
      "Epoch 82/600\n",
      "14/14 [==============================] - 0s 6ms/step - loss: 0.1037 - val_loss: 0.0909\n",
      "Epoch 83/600\n"
     ]
    },
    {
     "name": "stdout",
     "output_type": "stream",
     "text": [
      "14/14 [==============================] - 0s 7ms/step - loss: 0.1011 - val_loss: 0.0891\n",
      "Epoch 84/600\n",
      "14/14 [==============================] - 0s 7ms/step - loss: 0.1133 - val_loss: 0.0894\n",
      "Epoch 85/600\n",
      "14/14 [==============================] - 0s 6ms/step - loss: 0.1256 - val_loss: 0.0821\n",
      "Epoch 86/600\n",
      "14/14 [==============================] - 0s 7ms/step - loss: 0.1059 - val_loss: 0.0881\n",
      "Epoch 87/600\n",
      "14/14 [==============================] - 0s 7ms/step - loss: 0.0966 - val_loss: 0.0974\n",
      "Epoch 88/600\n",
      "14/14 [==============================] - 0s 6ms/step - loss: 0.1281 - val_loss: 0.0864\n",
      "Epoch 89/600\n",
      "14/14 [==============================] - 0s 6ms/step - loss: 0.0982 - val_loss: 0.0820\n",
      "Epoch 90/600\n",
      "14/14 [==============================] - 0s 6ms/step - loss: 0.1142 - val_loss: 0.0960\n",
      "Epoch 91/600\n",
      "14/14 [==============================] - 0s 6ms/step - loss: 0.1279 - val_loss: 0.0836\n",
      "Epoch 92/600\n",
      "14/14 [==============================] - 0s 7ms/step - loss: 0.1092 - val_loss: 0.0974\n",
      "Epoch 93/600\n",
      "14/14 [==============================] - 0s 7ms/step - loss: 0.1064 - val_loss: 0.0844\n",
      "Epoch 94/600\n",
      "14/14 [==============================] - 0s 9ms/step - loss: 0.1162 - val_loss: 0.0886\n",
      "Epoch 95/600\n",
      "14/14 [==============================] - 0s 6ms/step - loss: 0.1014 - val_loss: 0.0947\n",
      "Epoch 96/600\n",
      "14/14 [==============================] - 0s 6ms/step - loss: 0.1117 - val_loss: 0.1016\n",
      "Epoch 97/600\n",
      "14/14 [==============================] - 0s 6ms/step - loss: 0.1142 - val_loss: 0.0850\n",
      "Epoch 98/600\n",
      "14/14 [==============================] - 0s 7ms/step - loss: 0.1046 - val_loss: 0.0915\n",
      "Epoch 99/600\n",
      "14/14 [==============================] - 0s 7ms/step - loss: 0.0935 - val_loss: 0.0949\n",
      "Epoch 100/600\n",
      "14/14 [==============================] - 0s 6ms/step - loss: 0.1081 - val_loss: 0.0834\n",
      "Epoch 101/600\n",
      "14/14 [==============================] - 0s 6ms/step - loss: 0.1107 - val_loss: 0.0876\n",
      "Epoch 102/600\n",
      "14/14 [==============================] - 0s 7ms/step - loss: 0.1188 - val_loss: 0.0993\n",
      "Epoch 103/600\n",
      "14/14 [==============================] - 0s 7ms/step - loss: 0.1115 - val_loss: 0.0851\n",
      "Epoch 104/600\n",
      "14/14 [==============================] - 0s 10ms/step - loss: 0.0931 - val_loss: 0.0855\n",
      "Epoch 105/600\n",
      "14/14 [==============================] - 0s 8ms/step - loss: 0.0919 - val_loss: 0.0982\n",
      "Epoch 106/600\n",
      "14/14 [==============================] - 0s 7ms/step - loss: 0.0907 - val_loss: 0.0823\n",
      "Epoch 107/600\n",
      "14/14 [==============================] - 0s 6ms/step - loss: 0.1145 - val_loss: 0.0890\n",
      "Epoch 108/600\n",
      "14/14 [==============================] - 0s 7ms/step - loss: 0.0970 - val_loss: 0.0833\n",
      "Epoch 109/600\n",
      "14/14 [==============================] - 0s 6ms/step - loss: 0.0900 - val_loss: 0.0890\n",
      "Epoch 110/600\n",
      "14/14 [==============================] - 0s 6ms/step - loss: 0.1063 - val_loss: 0.0906\n",
      "Epoch 111/600\n",
      "14/14 [==============================] - 0s 7ms/step - loss: 0.0895 - val_loss: 0.0833\n",
      "Epoch 112/600\n",
      "14/14 [==============================] - 0s 6ms/step - loss: 0.1119 - val_loss: 0.0887\n",
      "Epoch 113/600\n",
      "14/14 [==============================] - 0s 9ms/step - loss: 0.1171 - val_loss: 0.0891\n",
      "Epoch 114/600\n",
      "14/14 [==============================] - 0s 11ms/step - loss: 0.0989 - val_loss: 0.1040\n",
      "Epoch 00114: early stopping\n"
     ]
    },
    {
     "data": {
      "text/plain": [
       "<tensorflow.python.keras.callbacks.History at 0x7fa1407e8100>"
      ]
     },
     "execution_count": 17,
     "metadata": {},
     "output_type": "execute_result"
    }
   ],
   "source": [
    "model.fit(\n",
    "    x=X_train,\n",
    "    y=y_train,\n",
    "    epochs=600,\n",
    "    validation_data=(X_test,y_test),\n",
    "    verbose=1,\n",
    "    callbacks=[early_stop,board]\n",
    ")"
   ]
  },
  {
   "cell_type": "code",
   "execution_count": 18,
   "metadata": {},
   "outputs": [
    {
     "name": "stdout",
     "output_type": "stream",
     "text": [
      "logs/fit/2020-08-12--1129\n"
     ]
    }
   ],
   "source": [
    "print(log_directory)"
   ]
  },
  {
   "cell_type": "code",
   "execution_count": 23,
   "metadata": {},
   "outputs": [
    {
     "data": {
      "text/plain": [
       "'/opt/notebooks/Python-Data-Science-and-Machine-Learning-Bootcamp/TensorFlow_FILES/ANNs'"
      ]
     },
     "execution_count": 23,
     "metadata": {},
     "output_type": "execute_result"
    }
   ],
   "source": [
    "pwd"
   ]
  },
  {
   "cell_type": "code",
   "execution_count": null,
   "metadata": {},
   "outputs": [],
   "source": [
    "# Open jupyter shell\n",
    "# activate conda env with tensorboard installed,\n",
    "## conda activate tf-gpu\n",
    "# cd to project dir\n",
    "## cd /opt/notebooks/Python-Data-Science-and-Machine-Learning-Bootcamp/TensorFlow_FILES/ANNs\n",
    "# run tensorboard pointed to logs\n",
    "# https://stackoverflow.com/questions/33836728/view-tensorboard-on-docker-on-google-cloud/33838211#33838211\n",
    "## tensorboard --logdir logs/fit --host 0.0.0.0"
   ]
  }
 ],
 "metadata": {
  "kernelspec": {
   "display_name": "Python (tf-gpu)",
   "language": "python",
   "name": "python-tf-gpu"
  },
  "language_info": {
   "codemirror_mode": {
    "name": "ipython",
    "version": 3
   },
   "file_extension": ".py",
   "mimetype": "text/x-python",
   "name": "python",
   "nbconvert_exporter": "python",
   "pygments_lexer": "ipython3",
   "version": "3.8.5"
  }
 },
 "nbformat": 4,
 "nbformat_minor": 2
}
